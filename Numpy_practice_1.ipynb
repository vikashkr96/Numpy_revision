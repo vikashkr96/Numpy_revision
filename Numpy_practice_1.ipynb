{
  "nbformat": 4,
  "nbformat_minor": 0,
  "metadata": {
    "colab": {
      "provenance": [],
      "toc_visible": true,
      "authorship_tag": "ABX9TyMku4xg71Kq+PFyBVCuBvXh",
      "include_colab_link": true
    },
    "kernelspec": {
      "name": "python3",
      "display_name": "Python 3"
    },
    "language_info": {
      "name": "python"
    }
  },
  "cells": [
    {
      "cell_type": "markdown",
      "metadata": {
        "id": "view-in-github",
        "colab_type": "text"
      },
      "source": [
        "<a href=\"https://colab.research.google.com/github/vikashkr96/Numpy_revision/blob/main/Numpy_practice_1.ipynb\" target=\"_parent\"><img src=\"https://colab.research.google.com/assets/colab-badge.svg\" alt=\"Open In Colab\"/></a>"
      ]
    },
    {
      "cell_type": "code",
      "execution_count": null,
      "metadata": {
        "colab": {
          "base_uri": "https://localhost:8080/"
        },
        "id": "1GQxmVDaHirq",
        "outputId": "e83a738e-c776-4dee-b929-cef178716432"
      },
      "outputs": [
        {
          "output_type": "stream",
          "name": "stdout",
          "text": [
            "[1 2 3 4]\n",
            "[[1 2 3]\n",
            " [4 5 6]\n",
            " [7 8 9]]\n",
            "<class 'numpy.ndarray'>\n",
            "[0. 0. 0.]\n",
            "[[1. 1. 1.]\n",
            " [1. 1. 1.]]\n",
            "[[7 7 7 7 7 7]\n",
            " [7 7 7 7 7 7]\n",
            " [7 7 7 7 7 7]\n",
            " [7 7 7 7 7 7]\n",
            " [7 7 7 7 7 7]]\n",
            "[1 3 5 7 9]\n",
            "[[1. 0. 0. 0.]\n",
            " [0. 1. 0. 0.]\n",
            " [0. 0. 1. 0.]\n",
            " [0. 0. 0. 1.]]\n"
          ]
        }
      ],
      "source": [
        "import numpy as np\n",
        "\n",
        "#################      Arrays creation methods in numpy ...........\n",
        "\n",
        "## 1d array\n",
        "\n",
        "arr = np.array([1,2,3,4])\n",
        "print(arr)\n",
        "\n",
        "# # 2d arrays\n",
        "\n",
        "arr2 = np.array([[1,2,3],\n",
        "                 [4,5,6],\n",
        "                 [7,8,9]])\n",
        "print(arr2)\n",
        "print(type(arr2))\n",
        "\n",
        "## array with all elements as zero or zero matrix\n",
        "\n",
        "arr_zeros = np.zeros(3)\n",
        "print(arr_zeros)\n",
        "\n",
        "## array with all elements as zero or zero matrix\n",
        "\n",
        "arr_ones = np.ones((2,3))\n",
        "print(arr_ones)\n",
        "\n",
        "## imp for creating arrays with np.full() function automatically by giving command\n",
        "\n",
        "full_array = np.full((5,6),7)\n",
        "print(full_array)\n",
        "\n",
        "### creating sequence of numbers in numpy with arange() function .....\n",
        "   ## similar to range() function in python3\n",
        "\n",
        "arr= np.arange(1,11,2)\n",
        "print(arr)\n",
        "\n",
        "### creating identity matrix in numpy with eye() function\n",
        "\n",
        "ident_matrix = np.eye(4)\n",
        "print(ident_matrix)\n",
        "\n"
      ]
    },
    {
      "cell_type": "code",
      "source": [
        "#########           operations and properties of numpy arrays ...........\n",
        "\n",
        "## to check shape of given array\n",
        "\n",
        "arr_2D = np.array([[1,2,3],\n",
        "                   [4,5,6]])\n",
        "print(arr_2D)\n",
        "print(\"rows,collumns are : \" ,arr_2D.shape)\n",
        "\n",
        "## to check size ie: no of elements  of given array\n",
        "\n",
        "arr_2D = np.array([[1,2,3],\n",
        "                   [4,5,6]])\n",
        "print(\"Total no of elements is :\",arr_2D.size)\n",
        "\n",
        "## to check no of dimensions of a given array\n",
        "\n",
        "arr_2D = np.array([[1,2,3],\n",
        "                   [4,5,6]])\n",
        "print(f\"The given matrix is of {arr_2D.ndim} dimension\")\n",
        "\n",
        "## to check data type of a given array\n",
        "\n",
        "arr_2D = np.array([[1,2,3],\n",
        "                   [4,5,6]])\n",
        "print(f\"The data type of the given matrix is  {arr_2D.dtype}\")\n",
        "\n",
        "\n",
        "\n"
      ],
      "metadata": {
        "id": "eIJkZMdBIETD",
        "colab": {
          "base_uri": "https://localhost:8080/"
        },
        "outputId": "0ba3407e-dd48-4f0d-a2a8-f78d8db9109e"
      },
      "execution_count": null,
      "outputs": [
        {
          "output_type": "stream",
          "name": "stdout",
          "text": [
            "[[1 2 3]\n",
            " [4 5 6]]\n",
            "rows,collumns are :  (2, 3)\n",
            "Total no of elements is : 6\n",
            "The given matrix is of 2 dimension\n",
            "The data type of the given matrix is  int64\n"
          ]
        }
      ]
    },
    {
      "cell_type": "code",
      "source": [],
      "metadata": {
        "id": "4dHe0uYEIEZ8"
      },
      "execution_count": null,
      "outputs": []
    },
    {
      "cell_type": "code",
      "source": [],
      "metadata": {
        "id": "u00jj5JhIEcj"
      },
      "execution_count": null,
      "outputs": []
    },
    {
      "cell_type": "code",
      "source": [],
      "metadata": {
        "id": "mSHWNrmhIEfb"
      },
      "execution_count": null,
      "outputs": []
    },
    {
      "cell_type": "code",
      "source": [],
      "metadata": {
        "id": "wt2NP4nEIEiT"
      },
      "execution_count": null,
      "outputs": []
    }
  ]
}